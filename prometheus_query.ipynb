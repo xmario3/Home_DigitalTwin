{
 "cells": [
  {
   "cell_type": "code",
   "execution_count": 45,
   "id": "99ebcb03",
   "metadata": {},
   "outputs": [
    {
     "name": "stdout",
     "output_type": "stream",
     "text": [
      "2022-04-19 23:08:09: 22.64\n",
      "2022-04-19 23:08:24: 22.64\n",
      "2022-04-19 23:08:39: 22.64\n",
      "2022-04-19 23:08:54: 22.66\n"
     ]
    }
   ],
   "source": [
    "import requests\n",
    "from datetime import datetime\n",
    "\n",
    "PROMETHEUS_SERVER = \"http://192.168.2.3:9090/\"\n",
    "\n",
    "risposta = requests.get(PROMETHEUS_SERVER + \"/api/v1/query\",params={\n",
    "    'query': \"generic_temp_c[1m]\"})\n",
    "\n",
    "risposta_j = risposta.json()\n",
    "\n",
    "\n",
    "for value in risposta_j[\"data\"][\"result\"][0][\"values\"]:\n",
    "    \n",
    "    data = datetime.utcfromtimestamp(int(value[0])).strftime('%Y-%m-%d %H:%M:%S')\n",
    "    \n",
    "    print(str(data) + \": \" + str(value[1]))\n",
    "\n"
   ]
  },
  {
   "cell_type": "code",
   "execution_count": null,
   "id": "40ded8e6",
   "metadata": {},
   "outputs": [],
   "source": []
  }
 ],
 "metadata": {
  "kernelspec": {
   "display_name": "Python 3",
   "language": "python",
   "name": "python3"
  },
  "language_info": {
   "codemirror_mode": {
    "name": "ipython",
    "version": 3
   },
   "file_extension": ".py",
   "mimetype": "text/x-python",
   "name": "python",
   "nbconvert_exporter": "python",
   "pygments_lexer": "ipython3",
   "version": "3.6.13"
  }
 },
 "nbformat": 4,
 "nbformat_minor": 5
}
