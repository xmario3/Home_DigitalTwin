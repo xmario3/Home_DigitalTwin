{
 "cells": [
  {
   "cell_type": "code",
   "execution_count": 1,
   "metadata": {},
   "outputs": [
    {
     "name": "stdout",
     "output_type": "stream",
     "text": [
      "Connection received from ('127.0.0.1', 58147)\n",
      "b'#1 Data requested'\n"
     ]
    }
   ],
   "source": [
    "import socket\n",
    "from IPython.display import clear_output\n",
    "\n",
    "\n",
    "HOST = \"127.0.0.1\"\n",
    "PORT = 4505\n",
    "PACKET_SIZE = 4096\n",
    "\n",
    "\n",
    "with socket.socket(socket.AF_INET, socket.SOCK_STREAM) as MySocket:\n",
    "    MySocket.bind((HOST,PORT))\n",
    "    MySocket.listen()\n",
    "\n",
    "    while True:\n",
    "        RemoteConnection, RemoteAddress = MySocket.accept()\n",
    "        clear_output(wait=True)\n",
    "        \n",
    "        with RemoteConnection:\n",
    "            print(f\"Connection received from {RemoteAddress}\")\n",
    "            while True: \n",
    "                ReceivedData = RemoteConnection.recv(PACKET_SIZE)\n",
    "\n",
    "                # check if is there some data\n",
    "                if not ReceivedData:\n",
    "                    break\n",
    "\n",
    "                # print the received data\n",
    "                print(ReceivedData)\n",
    "\n",
    "                # basic response\n",
    "                RemoteConnection.sendall(bytes(\"Ok\",\"utf-8\"))\n",
    "\n",
    "                # exit from loop is when client terminate"
   ]
  }
 ],
 "metadata": {
  "interpreter": {
   "hash": "1647535006a147c3d42478608984bad9399c02d535f9a7f01a033fef6366b7df"
  },
  "kernelspec": {
   "display_name": "Python 3.6.13 ('aaaa')",
   "language": "python",
   "name": "python3"
  },
  "language_info": {
   "codemirror_mode": {
    "name": "ipython",
    "version": 3
   },
   "file_extension": ".py",
   "mimetype": "text/x-python",
   "name": "python",
   "nbconvert_exporter": "python",
   "pygments_lexer": "ipython3",
   "version": "3.6.13"
  },
  "orig_nbformat": 4
 },
 "nbformat": 4,
 "nbformat_minor": 2
}
