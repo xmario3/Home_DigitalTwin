{
 "cells": [
  {
   "cell_type": "markdown",
   "id": "81191435",
   "metadata": {},
   "source": [
    "Serverino per immagini da unreal"
   ]
  },
  {
   "cell_type": "code",
   "execution_count": 3,
   "id": "a9d8f6cc",
   "metadata": {},
   "outputs": [
    {
     "name": "stdout",
     "output_type": "stream",
     "text": [
      "Pacchetti per secondo: 3\n",
      "Facce rilevate: b'\\x00'\n"
     ]
    }
   ],
   "source": [
    "import numpy as np\n",
    "import socket\n",
    "from IPython.display import clear_output\n",
    "import threading\n",
    "import cv2\n",
    "\n",
    "\n",
    "HOST = \"127.0.0.1\"  # Standard loopback interface address (localhost)\n",
    "PORT = 4502  # Port to listen on (non-privileged ports are > 1023)\n",
    "PACKET_SIZE = 1048576\n",
    "\n",
    "face_cascade = cv2.CascadeClassifier('haarcascade_frontalface_default.xml')\n",
    "\n",
    "facce = 0\n",
    "\n",
    "contatorePacchetti = 0\n",
    "contatorePacchettiVecchio = 0\n",
    "pacchettiPerSecondo = 0\n",
    "\n",
    "#riconoscimento facciale\n",
    "def adj_detect_face(img):\n",
    "    \n",
    "    face_img = img.copy()\n",
    "  \n",
    "    face_rects = face_cascade.detectMultiScale(face_img,scaleFactor=1.2, minNeighbors=5) \n",
    "    \n",
    "    for (x,y,w,h) in face_rects: \n",
    "        cv2.rectangle(face_img, (x,y), (x+w,y+h), (255,255,255), 10) \n",
    "        \n",
    "    return (face_img, len(face_rects))\n",
    "\n",
    "#contatore di pacchetti\n",
    "def contatore():\n",
    "    clear_output(wait=True)\n",
    "    global contatorePacchettiVecchio\n",
    "    global pacchettiPerSecondo\n",
    "    #print(\"Pacchetti al secondo:\")\n",
    "    #print(contatorePacchetti-contatorePacchettiVecchio)\n",
    "    pacchettiPerSecondo = contatorePacchetti-contatorePacchettiVecchio\n",
    "    contatorePacchettiVecchio = contatorePacchetti\n",
    "    t = threading.Timer(1, contatore)\n",
    "    t.start()\n",
    " \n",
    "#### decommentare per avere il contatore\n",
    "contatore()\n",
    "\n",
    "with socket.socket(socket.AF_INET, socket.SOCK_STREAM) as s:\n",
    "    s.bind((HOST, PORT))\n",
    "    s.listen()\n",
    "    conn, addr = s.accept()\n",
    "    with conn:\n",
    "        print(f\"Connected by {addr}\")\n",
    "        while True:\n",
    "            \n",
    "            data = conn.recv(PACKET_SIZE)\n",
    "            \n",
    "            #verifico che ci sia un pacchetto da gestire\n",
    "            if not data:\n",
    "                break\n",
    "\n",
    "            #aumento contatore pacchetti\n",
    "            contatorePacchetti+=1\n",
    "            \n",
    "            if ( len(data) == PACKET_SIZE ):\n",
    "                clear_output(wait=True)\n",
    "                print(f\"Pacchetti per secondo: {pacchettiPerSecondo}\")\n",
    "\n",
    "                #gestisco immagine\n",
    "                immagine = np.frombuffer(data,dtype=np.uint8)\n",
    "                immagine = np.reshape(immagine,(512,512,4))\n",
    "                immagine,facce = adj_detect_face(immagine)\n",
    "                print(f\"Facce rilevate: {bytes(facce)}\")\n",
    "\n",
    "                #resize se necessario\n",
    "                #immagine = cv2.resize(immagine, (128,256), interpolation = cv2.INTER_AREA)\n",
    "\n",
    "                cv2.imshow(\"Feed Video\",immagine)\n",
    "                \n",
    "            conn.sendall(bytes([facce]))\n",
    "\n",
    "            #distruggo tutto se premo Q\n",
    "            if cv2.waitKey(25) & 0xFF == ord('q'):\n",
    "                cv2.destroyAllWindows()\n",
    "                break"
   ]
  },
  {
   "cell_type": "code",
   "execution_count": null,
   "id": "d6b9e1e0",
   "metadata": {},
   "outputs": [],
   "source": []
  }
 ],
 "metadata": {
  "kernelspec": {
   "display_name": "Python 3",
   "language": "python",
   "name": "python3"
  },
  "language_info": {
   "codemirror_mode": {
    "name": "ipython",
    "version": 3
   },
   "file_extension": ".py",
   "mimetype": "text/x-python",
   "name": "python",
   "nbconvert_exporter": "python",
   "pygments_lexer": "ipython3",
   "version": "3.6.13"
  }
 },
 "nbformat": 4,
 "nbformat_minor": 5
}
