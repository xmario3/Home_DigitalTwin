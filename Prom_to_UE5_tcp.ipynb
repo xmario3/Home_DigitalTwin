{
 "cells": [
  {
   "cell_type": "code",
   "execution_count": null,
   "metadata": {},
   "outputs": [],
   "source": [
    "#per Connection\n",
    "import socket\n",
    "HOST = \"127.0.0.1\"\n",
    "PORT = 4505\n",
    "PACKET_SIZE = 4096\n",
    "\n",
    "#per prometheus\n",
    "import requests\n",
    "from datetime import datetime\n",
    "PROMETHEUS_SERVER = \"http://192.168.2.3:9090/\"\n",
    "\n",
    "#varie\n",
    "from IPython.display import clear_output\n",
    "\n",
    "\n",
    "with socket.socket(socket.AF_INET, socket.SOCK_STREAM) as MySocket:\n",
    "    MySocket.bind((HOST,PORT))\n",
    "    MySocket.listen()\n",
    "\n",
    "    while True:\n",
    "        RemoteConnection, RemoteAddress = MySocket.accept()\n",
    "        clear_output(wait=True)\n",
    "        \n",
    "        with RemoteConnection:\n",
    "            print(f\"Connection received from {RemoteAddress}\")\n",
    "            while True: \n",
    "                ReceivedData = RemoteConnection.recv(PACKET_SIZE)\n",
    "\n",
    "                # check if is there some data\n",
    "                if not ReceivedData:\n",
    "                    break\n",
    "\n",
    "                # print the received data\n",
    "                print(ReceivedData)\n",
    "\n",
    "                #request data from Prom\n",
    "                QueryDataT = requests.get(PROMETHEUS_SERVER + \"/api/v1/query\",params={'query': \"generic_temp_c\"})\n",
    "                QueryDataJsonT = QueryDataT.json()\n",
    "\n",
    "                TValue = QueryDataJsonT[\"data\"][\"result\"][0][\"value\"][1]\n",
    "                TTime = datetime.utcfromtimestamp(int(QueryDataJsonT[\"data\"][\"result\"][0][\"value\"][0])).strftime('%Y-%m-%d %H:%M:%S')\n",
    "\n",
    "                StringToSend = str(TValue) + \"&\" + TTime\n",
    "\n",
    "                # response\n",
    "                RemoteConnection.sendall(bytes(StringToSend,\"utf-8\"))\n",
    "\n",
    "                # exit from loop is when client terminate"
   ]
  }
 ],
 "metadata": {
  "interpreter": {
   "hash": "1647535006a147c3d42478608984bad9399c02d535f9a7f01a033fef6366b7df"
  },
  "kernelspec": {
   "display_name": "Python 3.6.13 ('aaaa')",
   "language": "python",
   "name": "python3"
  },
  "language_info": {
   "codemirror_mode": {
    "name": "ipython",
    "version": 3
   },
   "file_extension": ".py",
   "mimetype": "text/x-python",
   "name": "python",
   "nbconvert_exporter": "python",
   "pygments_lexer": "ipython3",
   "version": "3.6.13"
  },
  "orig_nbformat": 4
 },
 "nbformat": 4,
 "nbformat_minor": 2
}
